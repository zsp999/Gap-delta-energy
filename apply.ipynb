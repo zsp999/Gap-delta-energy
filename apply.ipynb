{
 "cells": [
  {
   "cell_type": "code",
   "execution_count": 9,
   "metadata": {},
   "outputs": [],
   "source": [
    "from rdkit import Chem\n",
    "import numpy as np\n",
    "import pandas as pd\n",
    "from calculate_delta_energy.gap_deltaenergy import *\n",
    "import pickle"
   ]
  },
  {
   "cell_type": "code",
   "execution_count": 10,
   "metadata": {},
   "outputs": [
    {
     "name": "stdout",
     "output_type": "stream",
     "text": [
      "CCOC(=O)[C@H](CCc1ccccc1)N[C@@H](C)C(=O)N1[C@H](C(=O)O)C[C@@H]2CCC[C@@H]21\n",
      "(1, 226)\n"
     ]
    }
   ],
   "source": [
    "# 在这里输入你想要研究的分子的SMILES表示\n",
    "# 提取特征\n",
    "# 预测分子global毒性 预测值越接近0意味着无毒，越接近1意味着有毒\n",
    "your_smis = ['[H][C@@]12CCC[C@]1([H])N([C@@H](C2)C(O)=O)C(=O)[C@H](C)N[C@@H](CCC1=CC=CC=C1)C(=O)OCC']\n",
    "your_mols = [Chem.MolFromSmiles(smi) for smi in your_smis]\n",
    "print(Chem.MolToSmiles(your_mols[0]))\n",
    "your_nbegapenergy, your_smiles_list =GetNBEandGapEnergy_asfeatures(your_mols, your_smis)\n",
    "\n",
    "df_your_smi = pd.DataFrame({'standard_smiles':your_smiles_list})\n",
    "df_your_gapenergy = pd.DataFrame(your_nbegapenergy, columns= col_list)\n",
    "df_your_gapenergy = pd.concat([df_your_smi, df_your_gapenergy],axis=1)\n",
    "\n",
    "df_your_gapenergy_fe = FE(df_your_gapenergy)\n",
    "print(df_your_gapenergy_fe.shape)\n",
    "df_your_all = descri(df_your_gapenergy_fe)\n",
    "\n"
   ]
  },
  {
   "cell_type": "code",
   "execution_count": 11,
   "metadata": {},
   "outputs": [
    {
     "name": "stdout",
     "output_type": "stream",
     "text": [
      "分子gap-delta-energy特征\n"
     ]
    },
    {
     "data": {
      "text/html": [
       "<div>\n",
       "<style scoped>\n",
       "    .dataframe tbody tr th:only-of-type {\n",
       "        vertical-align: middle;\n",
       "    }\n",
       "\n",
       "    .dataframe tbody tr th {\n",
       "        vertical-align: top;\n",
       "    }\n",
       "\n",
       "    .dataframe thead th {\n",
       "        text-align: right;\n",
       "    }\n",
       "</style>\n",
       "<table border=\"1\" class=\"dataframe\">\n",
       "  <thead>\n",
       "    <tr style=\"text-align: right;\">\n",
       "      <th></th>\n",
       "      <th>standard_smiles</th>\n",
       "      <th>sx_ave1</th>\n",
       "      <th>sx_ave2</th>\n",
       "      <th>sx_ave3</th>\n",
       "      <th>sx_ave4</th>\n",
       "      <th>sx_ave5</th>\n",
       "      <th>sx_ave6</th>\n",
       "      <th>sx_ave7</th>\n",
       "      <th>sx_ave8</th>\n",
       "      <th>sx_ave9</th>\n",
       "      <th>...</th>\n",
       "      <th>nx_std6*nx_std7</th>\n",
       "      <th>nx_std6*nx_std8</th>\n",
       "      <th>nx_std6*nx_std9</th>\n",
       "      <th>nx_std6*nx_std10</th>\n",
       "      <th>nx_std7*nx_std8</th>\n",
       "      <th>nx_std7*nx_std9</th>\n",
       "      <th>nx_std7*nx_std10</th>\n",
       "      <th>nx_std8*nx_std9</th>\n",
       "      <th>nx_std8*nx_std10</th>\n",
       "      <th>nx_std9*nx_std10</th>\n",
       "    </tr>\n",
       "  </thead>\n",
       "  <tbody>\n",
       "    <tr>\n",
       "      <th>0</th>\n",
       "      <td>[H][C@@]12CCC[C@]1([H])N([C@@H](C2)C(O)=O)C(=O...</td>\n",
       "      <td>81.378151</td>\n",
       "      <td>74.631868</td>\n",
       "      <td>99.044554</td>\n",
       "      <td>99.112821</td>\n",
       "      <td>93.343434</td>\n",
       "      <td>81.126263</td>\n",
       "      <td>85.461957</td>\n",
       "      <td>93.365714</td>\n",
       "      <td>87.024691</td>\n",
       "      <td>...</td>\n",
       "      <td>12227.933192</td>\n",
       "      <td>11498.54697</td>\n",
       "      <td>11001.515892</td>\n",
       "      <td>11977.062418</td>\n",
       "      <td>12555.846723</td>\n",
       "      <td>12013.113276</td>\n",
       "      <td>13078.362015</td>\n",
       "      <td>11296.540886</td>\n",
       "      <td>12298.248408</td>\n",
       "      <td>11766.649791</td>\n",
       "    </tr>\n",
       "  </tbody>\n",
       "</table>\n",
       "<p>1 rows × 226 columns</p>\n",
       "</div>"
      ],
      "text/plain": [
       "                                     standard_smiles    sx_ave1    sx_ave2  \\\n",
       "0  [H][C@@]12CCC[C@]1([H])N([C@@H](C2)C(O)=O)C(=O...  81.378151  74.631868   \n",
       "\n",
       "     sx_ave3    sx_ave4    sx_ave5    sx_ave6    sx_ave7    sx_ave8  \\\n",
       "0  99.044554  99.112821  93.343434  81.126263  85.461957  93.365714   \n",
       "\n",
       "     sx_ave9  ...  nx_std6*nx_std7  nx_std6*nx_std8  nx_std6*nx_std9  \\\n",
       "0  87.024691  ...     12227.933192      11498.54697     11001.515892   \n",
       "\n",
       "   nx_std6*nx_std10  nx_std7*nx_std8  nx_std7*nx_std9  nx_std7*nx_std10  \\\n",
       "0      11977.062418     12555.846723     12013.113276      13078.362015   \n",
       "\n",
       "   nx_std8*nx_std9  nx_std8*nx_std10  nx_std9*nx_std10  \n",
       "0     11296.540886      12298.248408      11766.649791  \n",
       "\n",
       "[1 rows x 226 columns]"
      ]
     },
     "execution_count": 11,
     "metadata": {},
     "output_type": "execute_result"
    }
   ],
   "source": [
    "print(f\"分子gap-delta-energy特征\")\n",
    "df_your_gapenergy_fe"
   ]
  },
  {
   "cell_type": "code",
   "execution_count": 12,
   "metadata": {},
   "outputs": [
    {
     "name": "stdout",
     "output_type": "stream",
     "text": [
      "分子的总特征\n"
     ]
    },
    {
     "data": {
      "text/html": [
       "<div>\n",
       "<style scoped>\n",
       "    .dataframe tbody tr th:only-of-type {\n",
       "        vertical-align: middle;\n",
       "    }\n",
       "\n",
       "    .dataframe tbody tr th {\n",
       "        vertical-align: top;\n",
       "    }\n",
       "\n",
       "    .dataframe thead th {\n",
       "        text-align: right;\n",
       "    }\n",
       "</style>\n",
       "<table border=\"1\" class=\"dataframe\">\n",
       "  <thead>\n",
       "    <tr style=\"text-align: right;\">\n",
       "      <th></th>\n",
       "      <th>standard_smiles</th>\n",
       "      <th>sx_ave1</th>\n",
       "      <th>sx_ave2</th>\n",
       "      <th>sx_ave3</th>\n",
       "      <th>sx_ave4</th>\n",
       "      <th>sx_ave5</th>\n",
       "      <th>sx_ave6</th>\n",
       "      <th>sx_ave7</th>\n",
       "      <th>sx_ave8</th>\n",
       "      <th>sx_ave9</th>\n",
       "      <th>...</th>\n",
       "      <th>fr_sulfide</th>\n",
       "      <th>fr_sulfonamd</th>\n",
       "      <th>fr_sulfone</th>\n",
       "      <th>fr_term_acetylene</th>\n",
       "      <th>fr_tetrazole</th>\n",
       "      <th>fr_thiazole</th>\n",
       "      <th>fr_thiocyan</th>\n",
       "      <th>fr_thiophene</th>\n",
       "      <th>fr_unbrch_alkane</th>\n",
       "      <th>fr_urea</th>\n",
       "    </tr>\n",
       "  </thead>\n",
       "  <tbody>\n",
       "    <tr>\n",
       "      <th>0</th>\n",
       "      <td>[H][C@@]12CCC[C@]1([H])N([C@@H](C2)C(O)=O)C(=O...</td>\n",
       "      <td>81.378151</td>\n",
       "      <td>74.631868</td>\n",
       "      <td>99.044554</td>\n",
       "      <td>99.112821</td>\n",
       "      <td>93.343434</td>\n",
       "      <td>81.126263</td>\n",
       "      <td>85.461957</td>\n",
       "      <td>93.365714</td>\n",
       "      <td>87.024691</td>\n",
       "      <td>...</td>\n",
       "      <td>0</td>\n",
       "      <td>0</td>\n",
       "      <td>0</td>\n",
       "      <td>0</td>\n",
       "      <td>0</td>\n",
       "      <td>0</td>\n",
       "      <td>0</td>\n",
       "      <td>0</td>\n",
       "      <td>0</td>\n",
       "      <td>0</td>\n",
       "    </tr>\n",
       "  </tbody>\n",
       "</table>\n",
       "<p>1 rows × 434 columns</p>\n",
       "</div>"
      ],
      "text/plain": [
       "                                     standard_smiles    sx_ave1    sx_ave2  \\\n",
       "0  [H][C@@]12CCC[C@]1([H])N([C@@H](C2)C(O)=O)C(=O...  81.378151  74.631868   \n",
       "\n",
       "     sx_ave3    sx_ave4    sx_ave5    sx_ave6    sx_ave7    sx_ave8  \\\n",
       "0  99.044554  99.112821  93.343434  81.126263  85.461957  93.365714   \n",
       "\n",
       "     sx_ave9  ...  fr_sulfide  fr_sulfonamd  fr_sulfone  fr_term_acetylene  \\\n",
       "0  87.024691  ...           0             0           0                  0   \n",
       "\n",
       "   fr_tetrazole  fr_thiazole  fr_thiocyan  fr_thiophene  fr_unbrch_alkane  \\\n",
       "0             0            0            0             0                 0   \n",
       "\n",
       "   fr_urea  \n",
       "0        0  \n",
       "\n",
       "[1 rows x 434 columns]"
      ]
     },
     "execution_count": 12,
     "metadata": {},
     "output_type": "execute_result"
    }
   ],
   "source": [
    "print(f\"分子的总特征\")\n",
    "df_your_all"
   ]
  },
  {
   "cell_type": "code",
   "execution_count": 13,
   "metadata": {},
   "outputs": [
    {
     "name": "stdout",
     "output_type": "stream",
     "text": [
      "(1, 429)\n"
     ]
    }
   ],
   "source": [
    "xgb_gapen_important_features = np.load(\"data/xgb_gapen_important_features.npy\", allow_pickle=True)\n",
    "xgb_descri_important_features = np.load(\"data/xgb_descri_important_features.npy\", allow_pickle=True)\n",
    "\n",
    "feature_names = np.load(\"./data/feature_names.npy\", allow_pickle=True)\n",
    "df_mean= np.load(\"./data/feature_df_mean.npy\")\n",
    "df_std= np.load(\"./data/feature_df_std.npy\")\n",
    "\n",
    "def get_feature(df_your_all = df_your_all):\n",
    "    features = df_your_all.iloc[:,1:]\n",
    "    features = features[feature_names]\n",
    "    \n",
    "    # features = np.array(features)\n",
    "    print(features.shape)\n",
    "    # df_mean = \n",
    "    # df_std = \n",
    "    features = (features - df_mean) / df_std\n",
    "    features = features.fillna(0.0)\n",
    "    return features\n",
    "\n",
    "your_features = get_feature()"
   ]
  },
  {
   "cell_type": "code",
   "execution_count": 14,
   "metadata": {},
   "outputs": [
    {
     "name": "stdout",
     "output_type": "stream",
     "text": [
      "经过特征选择之后的特征\n"
     ]
    },
    {
     "data": {
      "text/html": [
       "<div>\n",
       "<style scoped>\n",
       "    .dataframe tbody tr th:only-of-type {\n",
       "        vertical-align: middle;\n",
       "    }\n",
       "\n",
       "    .dataframe tbody tr th {\n",
       "        vertical-align: top;\n",
       "    }\n",
       "\n",
       "    .dataframe thead th {\n",
       "        text-align: right;\n",
       "    }\n",
       "</style>\n",
       "<table border=\"1\" class=\"dataframe\">\n",
       "  <thead>\n",
       "    <tr style=\"text-align: right;\">\n",
       "      <th></th>\n",
       "      <th>sx_ave1</th>\n",
       "      <th>sx_ave2</th>\n",
       "      <th>sx_ave3</th>\n",
       "      <th>sx_ave4</th>\n",
       "      <th>sx_ave5</th>\n",
       "      <th>sx_ave6</th>\n",
       "      <th>sx_ave7</th>\n",
       "      <th>sx_ave8</th>\n",
       "      <th>sx_ave9</th>\n",
       "      <th>sx_ave10</th>\n",
       "      <th>...</th>\n",
       "      <th>fr_sulfide</th>\n",
       "      <th>fr_sulfonamd</th>\n",
       "      <th>fr_sulfone</th>\n",
       "      <th>fr_term_acetylene</th>\n",
       "      <th>fr_tetrazole</th>\n",
       "      <th>fr_thiazole</th>\n",
       "      <th>fr_thiocyan</th>\n",
       "      <th>fr_thiophene</th>\n",
       "      <th>fr_unbrch_alkane</th>\n",
       "      <th>fr_urea</th>\n",
       "    </tr>\n",
       "  </thead>\n",
       "  <tbody>\n",
       "    <tr>\n",
       "      <th>0</th>\n",
       "      <td>-0.402037</td>\n",
       "      <td>-0.138743</td>\n",
       "      <td>0.218359</td>\n",
       "      <td>0.3602</td>\n",
       "      <td>0.172622</td>\n",
       "      <td>-0.081467</td>\n",
       "      <td>0.141281</td>\n",
       "      <td>0.478555</td>\n",
       "      <td>0.324153</td>\n",
       "      <td>0.096932</td>\n",
       "      <td>...</td>\n",
       "      <td>-0.191016</td>\n",
       "      <td>-0.068355</td>\n",
       "      <td>-0.048275</td>\n",
       "      <td>-0.054313</td>\n",
       "      <td>-0.011301</td>\n",
       "      <td>-0.101031</td>\n",
       "      <td>-0.028617</td>\n",
       "      <td>-0.067561</td>\n",
       "      <td>-0.407879</td>\n",
       "      <td>-0.074021</td>\n",
       "    </tr>\n",
       "  </tbody>\n",
       "</table>\n",
       "<p>1 rows × 429 columns</p>\n",
       "</div>"
      ],
      "text/plain": [
       "    sx_ave1   sx_ave2   sx_ave3  sx_ave4   sx_ave5   sx_ave6   sx_ave7  \\\n",
       "0 -0.402037 -0.138743  0.218359   0.3602  0.172622 -0.081467  0.141281   \n",
       "\n",
       "    sx_ave8   sx_ave9  sx_ave10  ...  fr_sulfide  fr_sulfonamd  fr_sulfone  \\\n",
       "0  0.478555  0.324153  0.096932  ...   -0.191016     -0.068355   -0.048275   \n",
       "\n",
       "   fr_term_acetylene  fr_tetrazole  fr_thiazole  fr_thiocyan  fr_thiophene  \\\n",
       "0          -0.054313     -0.011301    -0.101031    -0.028617     -0.067561   \n",
       "\n",
       "   fr_unbrch_alkane   fr_urea  \n",
       "0         -0.407879 -0.074021  \n",
       "\n",
       "[1 rows x 429 columns]"
      ]
     },
     "execution_count": 14,
     "metadata": {},
     "output_type": "execute_result"
    }
   ],
   "source": [
    "print(\"经过特征选择之后的特征\")\n",
    "your_features"
   ]
  },
  {
   "cell_type": "code",
   "execution_count": 15,
   "metadata": {},
   "outputs": [
    {
     "name": "stdout",
     "output_type": "stream",
     "text": [
      "xgb_gap分类器预测毒性概率: [0.7102969]\n",
      "xgb_des分类器预测毒性概率: [0.23002003]\n"
     ]
    }
   ],
   "source": [
    "# load XGB model with selected features\n",
    "def pickle_XGBmodel_test(clf_str,  features = your_features):\n",
    "    with open('models/'+clf_str+'.pkl', 'rb') as f:\n",
    "        clf = pickle.load(f)\n",
    "    if clf_str == 'xgb_gap':\n",
    "        X_test =  features[xgb_gapen_important_features]\n",
    "    elif clf_str == 'xgb_des':\n",
    "        X_test =  features[xgb_descri_important_features]\n",
    "    y_test_pred = clf.predict(X_test)\n",
    "    y_test_probas = clf.predict_proba(X_test)[:, 1]\n",
    "    print(f\"{clf_str}分类器预测毒性概率: {y_test_probas}\")\n",
    "\n",
    "    return y_test_probas\n",
    "\n",
    "xgb_gapen_test_proba = pickle_XGBmodel_test('xgb_gap')\n",
    "xgb_descri_test_proba = pickle_XGBmodel_test('xgb_des')"
   ]
  },
  {
   "cell_type": "code",
   "execution_count": 16,
   "metadata": {},
   "outputs": [
    {
     "name": "stdout",
     "output_type": "stream",
     "text": [
      "XGB-LR-stacking 最终的毒性预测概率 [0.40326961]\n"
     ]
    }
   ],
   "source": [
    "# load the LR model\n",
    "# 最终毒性预测概率\n",
    "def pickle_LRmodel_test(X_test_proba):\n",
    "\n",
    "    with open('models/'+'XGB_LR'+'.pkl', 'rb') as f:\n",
    "        clf = pickle.load(f)\n",
    "    y_test_pred = clf.predict(X_test_proba)\n",
    "    y_test_probas = clf.predict_proba(X_test_proba)[:, 1]\n",
    "    print(\"XGB-LR-stacking 最终的毒性预测概率\" ,y_test_probas)\n",
    "    return y_test_probas\n",
    "\n",
    "X_test_proba = np.concatenate([xgb_gapen_test_proba[:,np.newaxis], xgb_descri_test_proba[:,np.newaxis]], axis=1)\n",
    "y_test_probas = pickle_LRmodel_test(X_test_proba)"
   ]
  }
 ],
 "metadata": {
  "kernelspec": {
   "display_name": "py39",
   "language": "python",
   "name": "python3"
  },
  "language_info": {
   "codemirror_mode": {
    "name": "ipython",
    "version": 3
   },
   "file_extension": ".py",
   "mimetype": "text/x-python",
   "name": "python",
   "nbconvert_exporter": "python",
   "pygments_lexer": "ipython3",
   "version": "3.9.13"
  }
 },
 "nbformat": 4,
 "nbformat_minor": 2
}
