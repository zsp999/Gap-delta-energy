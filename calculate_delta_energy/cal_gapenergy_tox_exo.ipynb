{
 "cells": [
  {
   "cell_type": "code",
   "execution_count": 1,
   "metadata": {},
   "outputs": [],
   "source": [
    "from rdkit import Chem\n",
    "from rdkit.Chem.SaltRemover import SaltRemover\n",
    "from rdkit.ML.Descriptors import MoleculeDescriptors\n",
    "from rdkit.Chem import Descriptors\n",
    "import numpy as np\n",
    "import pandas as pd\n",
    "import networkx as nx\n",
    "from rdkit.Chem.rdchem import BondType\n",
    "from gap_deltaenergy import *"
   ]
  },
  {
   "cell_type": "code",
   "execution_count": 6,
   "metadata": {},
   "outputs": [],
   "source": [
    "df_tox = pd.read_csv('data/toxic_small.csv')\n",
    "df_exo = pd.read_csv('data/exo_small.csv')"
   ]
  },
  {
   "cell_type": "code",
   "execution_count": 7,
   "metadata": {},
   "outputs": [
    {
     "name": "stdout",
     "output_type": "stream",
     "text": [
      "3404 7519\n",
      "3404 7235\n"
     ]
    }
   ],
   "source": [
    "#将外源性分子中有毒性分子的排除\n",
    "tox_smi_list = set(df_tox['standard_smiles'].values)\n",
    "exo_smi_list = set(df_exo['standard_smiles'].values)\n",
    "print(len(tox_smi_list), len(exo_smi_list))\n",
    "exo_smi_list = exo_smi_list - tox_smi_list\n",
    "tox_smi_list = list(tox_smi_list)\n",
    "exo_smi_list = list(exo_smi_list)\n",
    "print(len(tox_smi_list), len(exo_smi_list))"
   ]
  },
  {
   "cell_type": "code",
   "execution_count": 4,
   "metadata": {},
   "outputs": [
    {
     "name": "stderr",
     "output_type": "stream",
     "text": [
      "[02:34:01] WARNING: not removing hydrogen atom without neighbors\n",
      "[02:34:01] WARNING: not removing hydrogen atom without neighbors\n",
      "[02:34:01] WARNING: not removing hydrogen atom without neighbors\n",
      "[02:34:01] WARNING: not removing hydrogen atom without neighbors\n",
      "[02:34:01] WARNING: not removing hydrogen atom without neighbors\n"
     ]
    }
   ],
   "source": [
    "tox_mols = [Chem.MolFromSmiles(smi) for smi in tox_smi_list]\n",
    "exo_mols = [Chem.MolFromSmiles(smi) for smi in exo_smi_list]"
   ]
  },
  {
   "cell_type": "code",
   "execution_count": 12,
   "metadata": {},
   "outputs": [],
   "source": [
    "tox_nbegapenergy1, tox_smiles_list1 =GetNBEandGapEnergy_asfeatures(tox_mols, tox_smi_list)\n",
    "exo_nbegapenergy1, exo_smiles_list1 =GetNBEandGapEnergy_asfeatures(exo_mols, exo_smi_list)"
   ]
  },
  {
   "cell_type": "code",
   "execution_count": 14,
   "metadata": {},
   "outputs": [
    {
     "data": {
      "text/html": [
       "<div>\n",
       "<style scoped>\n",
       "    .dataframe tbody tr th:only-of-type {\n",
       "        vertical-align: middle;\n",
       "    }\n",
       "\n",
       "    .dataframe tbody tr th {\n",
       "        vertical-align: top;\n",
       "    }\n",
       "\n",
       "    .dataframe thead th {\n",
       "        text-align: right;\n",
       "    }\n",
       "</style>\n",
       "<table border=\"1\" class=\"dataframe\">\n",
       "  <thead>\n",
       "    <tr style=\"text-align: right;\">\n",
       "      <th></th>\n",
       "      <th>standard_smiles</th>\n",
       "      <th>sx_ave1</th>\n",
       "      <th>sx_ave2</th>\n",
       "      <th>sx_ave3</th>\n",
       "      <th>sx_ave4</th>\n",
       "      <th>sx_ave5</th>\n",
       "      <th>sx_ave6</th>\n",
       "      <th>sx_ave7</th>\n",
       "      <th>sx_ave8</th>\n",
       "      <th>sx_ave9</th>\n",
       "      <th>...</th>\n",
       "      <th>nx_std6</th>\n",
       "      <th>nx_std7</th>\n",
       "      <th>nx_std8</th>\n",
       "      <th>nx_std9</th>\n",
       "      <th>nx_std10</th>\n",
       "      <th>oldnbe</th>\n",
       "      <th>oldstd</th>\n",
       "      <th>newnbe</th>\n",
       "      <th>newstd</th>\n",
       "      <th>max_gap</th>\n",
       "    </tr>\n",
       "  </thead>\n",
       "  <tbody>\n",
       "    <tr>\n",
       "      <th>0</th>\n",
       "      <td>CC1CCC(C(C)C2CCC3C4=CC(=O)C5CC(OC6OC(CO)C(O)C(...</td>\n",
       "      <td>42.691983</td>\n",
       "      <td>43.961735</td>\n",
       "      <td>49.334545</td>\n",
       "      <td>51.261818</td>\n",
       "      <td>44.888031</td>\n",
       "      <td>49.002041</td>\n",
       "      <td>42.448473</td>\n",
       "      <td>51.036170</td>\n",
       "      <td>48.417607</td>\n",
       "      <td>...</td>\n",
       "      <td>37.772912</td>\n",
       "      <td>36.843022</td>\n",
       "      <td>36.001760</td>\n",
       "      <td>35.452420</td>\n",
       "      <td>39.570915</td>\n",
       "      <td>63.598035</td>\n",
       "      <td>52.922845</td>\n",
       "      <td>23.099889</td>\n",
       "      <td>8.654226</td>\n",
       "      <td>25</td>\n",
       "    </tr>\n",
       "    <tr>\n",
       "      <th>1</th>\n",
       "      <td>C/C=C/S(=O)C(CC)SSCCC</td>\n",
       "      <td>72.830189</td>\n",
       "      <td>73.269841</td>\n",
       "      <td>101.574074</td>\n",
       "      <td>107.734694</td>\n",
       "      <td>83.327273</td>\n",
       "      <td>59.983051</td>\n",
       "      <td>49.875000</td>\n",
       "      <td>33.300000</td>\n",
       "      <td>26.400000</td>\n",
       "      <td>...</td>\n",
       "      <td>75.659057</td>\n",
       "      <td>74.887882</td>\n",
       "      <td>78.872284</td>\n",
       "      <td>76.015914</td>\n",
       "      <td>76.624479</td>\n",
       "      <td>48.497812</td>\n",
       "      <td>72.356102</td>\n",
       "      <td>23.556246</td>\n",
       "      <td>10.717787</td>\n",
       "      <td>10</td>\n",
       "    </tr>\n",
       "    <tr>\n",
       "      <th>2</th>\n",
       "      <td>COC(=O)C1OC(OC2CCC3(C)C(CCC4(C)C3CC=C3C5CC(C)(...</td>\n",
       "      <td>41.212329</td>\n",
       "      <td>48.534447</td>\n",
       "      <td>50.782904</td>\n",
       "      <td>50.498049</td>\n",
       "      <td>45.957276</td>\n",
       "      <td>51.478378</td>\n",
       "      <td>48.139565</td>\n",
       "      <td>48.682192</td>\n",
       "      <td>49.600852</td>\n",
       "      <td>...</td>\n",
       "      <td>45.842155</td>\n",
       "      <td>70.134041</td>\n",
       "      <td>74.861364</td>\n",
       "      <td>75.661650</td>\n",
       "      <td>71.309912</td>\n",
       "      <td>62.223076</td>\n",
       "      <td>57.948791</td>\n",
       "      <td>22.999512</td>\n",
       "      <td>8.658228</td>\n",
       "      <td>27</td>\n",
       "    </tr>\n",
       "    <tr>\n",
       "      <th>3</th>\n",
       "      <td>CCCCC/C=C\\C/C=C\\CCCCCCCCCC(=O)OC[C@H](COP(=O)(...</td>\n",
       "      <td>57.276018</td>\n",
       "      <td>46.964401</td>\n",
       "      <td>49.495017</td>\n",
       "      <td>55.969799</td>\n",
       "      <td>54.523649</td>\n",
       "      <td>53.853659</td>\n",
       "      <td>58.256140</td>\n",
       "      <td>56.304196</td>\n",
       "      <td>55.315412</td>\n",
       "      <td>...</td>\n",
       "      <td>32.687680</td>\n",
       "      <td>50.078332</td>\n",
       "      <td>52.101558</td>\n",
       "      <td>50.732123</td>\n",
       "      <td>58.659231</td>\n",
       "      <td>68.762972</td>\n",
       "      <td>64.378759</td>\n",
       "      <td>25.040933</td>\n",
       "      <td>8.536598</td>\n",
       "      <td>39</td>\n",
       "    </tr>\n",
       "    <tr>\n",
       "      <th>4</th>\n",
       "      <td>CS(=O)CCC(NC(=O)CCC(N)C(=O)O)C(=O)O</td>\n",
       "      <td>94.612903</td>\n",
       "      <td>104.720930</td>\n",
       "      <td>111.988764</td>\n",
       "      <td>109.862500</td>\n",
       "      <td>116.623188</td>\n",
       "      <td>106.609375</td>\n",
       "      <td>109.339286</td>\n",
       "      <td>99.480000</td>\n",
       "      <td>101.833333</td>\n",
       "      <td>...</td>\n",
       "      <td>120.775807</td>\n",
       "      <td>124.122119</td>\n",
       "      <td>131.255377</td>\n",
       "      <td>129.061685</td>\n",
       "      <td>125.552128</td>\n",
       "      <td>50.151560</td>\n",
       "      <td>112.883622</td>\n",
       "      <td>22.472381</td>\n",
       "      <td>9.064450</td>\n",
       "      <td>12</td>\n",
       "    </tr>\n",
       "  </tbody>\n",
       "</table>\n",
       "<p>5 rows × 46 columns</p>\n",
       "</div>"
      ],
      "text/plain": [
       "                                     standard_smiles    sx_ave1     sx_ave2  \\\n",
       "0  CC1CCC(C(C)C2CCC3C4=CC(=O)C5CC(OC6OC(CO)C(O)C(...  42.691983   43.961735   \n",
       "1                              C/C=C/S(=O)C(CC)SSCCC  72.830189   73.269841   \n",
       "2  COC(=O)C1OC(OC2CCC3(C)C(CCC4(C)C3CC=C3C5CC(C)(...  41.212329   48.534447   \n",
       "3  CCCCC/C=C\\C/C=C\\CCCCCCCCCC(=O)OC[C@H](COP(=O)(...  57.276018   46.964401   \n",
       "4                CS(=O)CCC(NC(=O)CCC(N)C(=O)O)C(=O)O  94.612903  104.720930   \n",
       "\n",
       "      sx_ave3     sx_ave4     sx_ave5     sx_ave6     sx_ave7    sx_ave8  \\\n",
       "0   49.334545   51.261818   44.888031   49.002041   42.448473  51.036170   \n",
       "1  101.574074  107.734694   83.327273   59.983051   49.875000  33.300000   \n",
       "2   50.782904   50.498049   45.957276   51.478378   48.139565  48.682192   \n",
       "3   49.495017   55.969799   54.523649   53.853659   58.256140  56.304196   \n",
       "4  111.988764  109.862500  116.623188  106.609375  109.339286  99.480000   \n",
       "\n",
       "      sx_ave9  ...     nx_std6     nx_std7     nx_std8     nx_std9  \\\n",
       "0   48.417607  ...   37.772912   36.843022   36.001760   35.452420   \n",
       "1   26.400000  ...   75.659057   74.887882   78.872284   76.015914   \n",
       "2   49.600852  ...   45.842155   70.134041   74.861364   75.661650   \n",
       "3   55.315412  ...   32.687680   50.078332   52.101558   50.732123   \n",
       "4  101.833333  ...  120.775807  124.122119  131.255377  129.061685   \n",
       "\n",
       "     nx_std10     oldnbe      oldstd     newnbe     newstd  max_gap  \n",
       "0   39.570915  63.598035   52.922845  23.099889   8.654226       25  \n",
       "1   76.624479  48.497812   72.356102  23.556246  10.717787       10  \n",
       "2   71.309912  62.223076   57.948791  22.999512   8.658228       27  \n",
       "3   58.659231  68.762972   64.378759  25.040933   8.536598       39  \n",
       "4  125.552128  50.151560  112.883622  22.472381   9.064450       12  \n",
       "\n",
       "[5 rows x 46 columns]"
      ]
     },
     "execution_count": 14,
     "metadata": {},
     "output_type": "execute_result"
    }
   ],
   "source": [
    "col_list = ['sx_ave1', 'sx_ave2','sx_ave3','sx_ave4','sx_ave5',\n",
    "            'sx_ave6',  'sx_ave7','sx_ave8','sx_ave9','sx_ave10',\n",
    "            'sx_std1', 'sx_std2', 'sx_std3', 'sx_std4', 'sx_std5', \n",
    "            'sx_std6', 'sx_std7', 'sx_std8', 'sx_std9', 'sx_std10', \n",
    "            'nx_ave1', 'nx_ave2','nx_ave3','nx_ave4','nx_ave5',\n",
    "            'nx_ave6',  'nx_ave7','nx_ave8','nx_ave9','nx_ave10',\n",
    "            'nx_std1', 'nx_std2', 'nx_std3', 'nx_std4', 'nx_std5', \n",
    "            'nx_std6', 'nx_std7', 'nx_std8', 'nx_std9', 'nx_std10', \n",
    "            'oldnbe', 'oldstd', 'newnbe', 'newstd', 'max_gap']\n",
    "df_tox_smi = pd.DataFrame({'standard_smiles':tox_smiles_list1})\n",
    "df_tox_gapenergy = pd.DataFrame(tox_nbegapenergy1, columns= col_list)\n",
    "df_tox = pd.concat([df_tox_smi, df_tox_gapenergy],axis=1)\n",
    "\n",
    "df_exo_smi = pd.DataFrame({'standard_smiles':exo_smiles_list1})\n",
    "df_exo_gapenergy = pd.DataFrame(exo_nbegapenergy1, columns= col_list)\n",
    "df_exo = pd.concat([df_exo_smi, df_exo_gapenergy],axis=1)\n",
    "df_exo.head()"
   ]
  },
  {
   "cell_type": "code",
   "execution_count": null,
   "metadata": {},
   "outputs": [],
   "source": [
    "#特征工程\n",
    "# feature engineer\n",
    "df_tox_gapenergy_fe = FE(df_tox)\n",
    "df_exo_gapenergy_fe = FE(df_exo)\n"
   ]
  },
  {
   "cell_type": "code",
   "execution_count": 16,
   "metadata": {},
   "outputs": [
    {
     "name": "stderr",
     "output_type": "stream",
     "text": [
      "[03:47:39] WARNING: not removing hydrogen atom without neighbors\n",
      "[03:47:39] WARNING: not removing hydrogen atom without neighbors\n",
      "[03:47:39] WARNING: not removing hydrogen atom without neighbors\n",
      "[03:47:39] WARNING: not removing hydrogen atom without neighbors\n",
      "[03:47:39] WARNING: not removing hydrogen atom without neighbors\n",
      "[03:47:39] WARNING: not removing hydrogen atom without neighbors\n",
      "[03:47:39] WARNING: not removing hydrogen atom without neighbors\n",
      "[03:47:39] WARNING: not removing hydrogen atom without neighbors\n",
      "[03:47:39] WARNING: not removing hydrogen atom without neighbors\n",
      "/tmp/ipykernel_2838368/1470989083.py:16: PerformanceWarning: DataFrame is highly fragmented.  This is usually the result of calling `frame.insert` many times, which has poor performance.  Consider joining all columns at once using pd.concat(axis=1) instead. To get a de-fragmented frame, use `newframe = frame.copy()`\n",
      "  df_tox_all.insert(0,'label',np.ones(2560))\n",
      "/tmp/ipykernel_2838368/1470989083.py:17: PerformanceWarning: DataFrame is highly fragmented.  This is usually the result of calling `frame.insert` many times, which has poor performance.  Consider joining all columns at once using pd.concat(axis=1) instead. To get a de-fragmented frame, use `newframe = frame.copy()`\n",
      "  df_exo_all.insert(0,'label',np.zeros(7210))\n"
     ]
    }
   ],
   "source": [
    "df_tox_all = descri(df_tox_gapenergy_fe)\n",
    "df_exo_all = descri(df_exo_gapenergy_fe)\n",
    "df_tox_all.insert(0,'label',np.ones(2560))\n",
    "df_exo_all.insert(0,'label',np.zeros(7210))"
   ]
  },
  {
   "cell_type": "code",
   "execution_count": 17,
   "metadata": {},
   "outputs": [],
   "source": [
    "df_tox_all.to_csv('data/tox_gapen_descri_sxnx.csv')\n",
    "df_exo_all.to_csv('data/exo_gapen_descri_sxnx.csv')"
   ]
  }
 ],
 "metadata": {
  "kernelspec": {
   "display_name": "py39",
   "language": "python",
   "name": "python3"
  },
  "language_info": {
   "codemirror_mode": {
    "name": "ipython",
    "version": 3
   },
   "file_extension": ".py",
   "mimetype": "text/x-python",
   "name": "python",
   "nbconvert_exporter": "python",
   "pygments_lexer": "ipython3",
   "version": "3.9.13"
  },
  "orig_nbformat": 4,
  "vscode": {
   "interpreter": {
    "hash": "20d61a3d14147360a5b25c13b513b6135b8047dbd45d3581bac678e4340f9852"
   }
  }
 },
 "nbformat": 4,
 "nbformat_minor": 2
}
